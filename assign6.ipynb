{
 "cells": [
  {
   "cell_type": "markdown",
   "metadata": {},
   "source": [
    "## Question 1\n",
    "\n",
    "### Object Oriented Programming Language\n",
    "\n",
    "Object-oriented programming (OOP) is a programming language model in which programs are organized around data, or objects, rather than functions and logic. An object can be defined as a data field that has unique attributes and behavior. Examples of an object can range from physical entities, such as a human being that is described by properties like name and address, down to small computer programs, such as widgets.\n",
    "This opposes the historical approach to programming where emphasis was placed on how the logic was written rather than how to define the data within the logic.\n",
    "\n",
    "#### Principles of OOP\n",
    "Object-oriented programming is based on the following principles:\n",
    "\n",
    "1. **Encapsulation-**\n",
    "The implementation and state of each object are privately held inside a defined boundary, or class. Other objects do not have access to this class or the authority to make changes but are only able to call a list of public functions, or methods. This characteristic of data hiding provides greater program security and avoids unintended data corruption.\n",
    "2. **Abstraction-** \n",
    "Objects only reveal internal mechanisms that are relevant for the use of other objects, hiding any unnecessary implementation code. This concept helps developers make changes and additions over time more easily.\n",
    "3. **Inheritance-**\n",
    "Relationships and subclasses between objects can be assigned, allowing developers to reuse a common logic while still maintaining a unique hierarchy. This property of OOP forces a more thorough data analysis, reduces development time and ensures a higher level of accuracy.\n",
    "4. **Polymorphism-**\n",
    "Objects are allowed to take on more than one form depending on the context. The program will determine which meaning or usage is necessary for each execution of that object, cutting down on the need to duplicate code."
   ]
  },
  {
   "cell_type": "markdown",
   "metadata": {},
   "source": [
    "## Question 2\n",
    "\n",
    "### Advantages of OOP\n",
    "\n",
    "1. Re-usability\n",
    "It means reusing some facilities rather than building it again and again. This is done with the use of a class. We can use it ‘n’ number of times as per our need.\n",
    "\n",
    "2. Data Redundancy\n",
    "This is a condition created at the place of data storage (you can say Databases)where the same piece of data is held in two separate places. So the data redundancy is one of the greatest advantages of OOP. If a user wants a similar functionality in multiple classes he/she can go ahead by writing common class definitions for the similar functionalities and inherit them.\n",
    "\n",
    "3. Code Maintenance\n",
    "This feature is more of a necessity for any programming languages, it helps users from doing re-work in many ways. It is always easy and time-saving to maintain and modify the existing codes with incorporating new changes into it.\n",
    "\n",
    "4. Security\n",
    "With the use of data hiding and abstraction mechanism, we are filtering out limited data to exposure which means we are maintaining security and providing necessary data to view.\n",
    "\n",
    "5. Design Benefits\n",
    "If you are practicing on OOPs the design benefit a user will get is in terms of designing and fixing things easily and eliminating the risks (if any). Here the Object Oriented Programs forces the designers to have a longer and extensive design phase, which results in better designs and fewer flaws. After a time when the program has reached some critical limits, it is easier to program all the non-OOP’s one separately.\n",
    "\n",
    "6. Better productivity\n",
    "with the above-mentioned facts of using the application definitely enhances its users overall productivity. This leads to more work done, finish a better program, having more inbuilt features and easier to read, write and maintain. An OOP programmer cans stitch new software objects to make completely new programs. A good number of libraries with useful functions in abundance make it possible.\n",
    "\n",
    "7. Easy troubleshooting\n",
    "This is the advantage of using encapsulation in OOP; all the objects are self-constrained. With this modality behavior, the IT teams get a lot of work benefits as they are now capable to work on multiple projects simultaneously with an advantage that there is no possibility of code duplicity.\n",
    "\n",
    "8. Polymorphism Flexibility\n",
    "Let’s see a scenario to better explain this behavior.\n",
    "You behave in a different way if the place or surrounding gets change. A person will behave like a customer if he is in a market, the same person will behave like a student if he is in a school and as a son/daughter if put in a house. Here we can see that the same person showing different behavior every time the surroundings are changed. This means polymorphism is flexibility and helps developers in a number of ways.\n",
    "It’s simplicity\n",
    "Extensibility\n",
    "\n",
    "9. Problems solving\n",
    "Decomposing a complex problem into smaller chunks or discrete components is a good practice. OOP is specialized in this behavior, as it breaks down your software code into bite-sized – one object at a time. In doing this the broken components can be reused in solutions to different other problems (both less and more complex) or either they can be replaced by the future modules which relate to the same interface with implementations details."
   ]
  },
  {
   "cell_type": "markdown",
   "metadata": {},
   "source": [
    "## Question 3\n",
    "\n",
    "### Differentiate between function and method?\n",
    "\n",
    "A **function** is a piece of code that is called by name. It can be passed data to operate on (i.e. the parameters) and can optionally return data (the return value). All data that is passed to a function is explicitly passed.\n",
    "\n",
    "A **method** is a piece of code that is called by a name that is associated with an object. In most respects it is identical to a function except for two key differences:\n",
    "\n",
    "* A method is implicitly passed the object on which it was called.\n",
    "* A method is able to operate on data that is contained within the class (remembering that an object is an instance of a class - the class is the definition, the object is an instance of that data)."
   ]
  },
  {
   "cell_type": "markdown",
   "metadata": {},
   "source": [
    "## Question 4\n",
    "\n",
    "### Terminologies\n",
    "1. ***Class***:\n",
    "Class is a template or blue print about the capability of what an object can do or a class is a blueprint from which you can create the instance, i.e., objects. It is used to bind data as well as methods together as a single unit. Classes have logical existence. And doesn't take any memory spaces when a programmer creates one. The class has to be declared only once. Every class contains attributes and behaviors.\n",
    "2. ***Object***:\n",
    "An object (instance) is an instantiation of a class. When class is defined, only the description for the object is defined. Therefore, no memory or storage is allocated or an object is the instance of the class, which helps programmers to use variables and methods from inside the class. Its acts as a variable of the class. Objects have a physical existence and takes memory when a programmer creates one. An Objects can be declared several times depending on the requirement.\n",
    "3. ***Attribute***:\n",
    "Attributes are the characteristics of the class that help to distinguish it from other classes. Attributes are called properties and properties are presented with different data types. For example a person's attributes, include their age, name, and height\n",
    "4. ***Behavior***:\n",
    "Behaviors are the tasks that an object performs. Behavior are called functions. Behaviors are described using functions. For example a person’s behaviors include the fact that a person can speak, run, walk, and eat."
   ]
  },
  {
   "cell_type": "code",
   "execution_count": 8,
   "metadata": {},
   "outputs": [
    {
     "name": "stdout",
     "output_type": "stream",
     "text": [
      "C200\n",
      "wagon R\n",
      "2019\n",
      "Rs. 30 million\n",
      "Green\n",
      "Rs. 30 million updated new price\n",
      "Green updated new color\n",
      "2019 updated new model\n"
     ]
    }
   ],
   "source": [
    "class Car():\n",
    "    def __init__(self,name,make,model,price,color):\n",
    "        self.name = name\n",
    "        self.make = make\n",
    "        self.model = model\n",
    "        self.price = price\n",
    "        self.color = color\n",
    "        \n",
    "        \n",
    "    def updateprice(self,price):\n",
    "        self.price = \"Rs. 20 million\"\n",
    "        \n",
    "    def updatecolor(self,color):\n",
    "        self.color = \"blue\"\n",
    "        \n",
    "    def updatemodel(self,model):\n",
    "        self.model = 2005\n",
    "        \n",
    "                \n",
    "car = Car(\"C200\",\"wagon R\",2019,\"Rs. 30 million\",\"Green\")\n",
    "\n",
    "\n",
    "print(car.name) \n",
    "print(car.make)\n",
    "print(car.model)\n",
    "print(car.price)\n",
    "print(car.color)\n",
    "\n",
    "\n",
    "print(car.price, \"updated new price\")\n",
    "print(car.color, \"updated new color\")\n",
    "print(car.model, \"updated new model\")\n"
   ]
  },
  {
   "cell_type": "code",
   "execution_count": null,
   "metadata": {},
   "outputs": [],
   "source": []
  }
 ],
 "metadata": {
  "kernelspec": {
   "display_name": "Python 3",
   "language": "python",
   "name": "python3"
  },
  "language_info": {
   "codemirror_mode": {
    "name": "ipython",
    "version": 3
   },
   "file_extension": ".py",
   "mimetype": "text/x-python",
   "name": "python",
   "nbconvert_exporter": "python",
   "pygments_lexer": "ipython3",
   "version": "3.7.4"
  }
 },
 "nbformat": 4,
 "nbformat_minor": 2
}
