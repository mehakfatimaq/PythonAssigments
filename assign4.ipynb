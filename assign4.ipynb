{
 "cells": [
  {
   "cell_type": "code",
   "execution_count": 1,
   "metadata": {},
   "outputs": [
    {
     "name": "stdout",
     "output_type": "stream",
     "text": [
      "Mehak\n",
      "Fatima\n",
      "23\n",
      "Hyderabad\n",
      "{'first_name': 'Mehak', 'last_name': 'Fatima', 'age': 23, 'city': 'Hyderabad', 'qualification': 'Bachelors'}\n",
      "{'first_name': 'Mehak', 'last_name': 'Fatima', 'age': 23, 'city': 'Hyderabad', 'qualification': 'Masters'}\n",
      "{'first_name': 'Mehak', 'last_name': 'Fatima', 'age': 23, 'city': 'Hyderabad'}\n"
     ]
    }
   ],
   "source": [
    "person = {\n",
    "    \"first_name\": \"Mehak\",\n",
    "    \"last_name\": \"Fatima\",\n",
    "    \"age\": 23,\n",
    "    \"city\": \"Hyderabad\",\n",
    "    }\n",
    "print(person[\"first_name\"])\n",
    "print(person[\"last_name\"])\n",
    "print(person[\"age\"])\n",
    "print(person['city'])\n",
    "\n",
    "person = {\n",
    "    \n",
    "    \"first_name\": \"Mehak\",\n",
    "    \"last_name\": \"Fatima\",\n",
    "    \"age\": 23,\n",
    "    \"city\": \"Hyderabad\",\n",
    "}\n",
    "   \n",
    "person[\"qualification\"] = \"Bachelors\"\n",
    "print(person)\n",
    "\n",
    "person = {\n",
    "    \n",
    "    \"first_name\": \"Mehak\",\n",
    "    \"last_name\": \"Fatima\",\n",
    "    \"age\": 23,\n",
    "    \"city\": \"Hyderabad\",\n",
    "    \"qualification\": \"Bachelors\"\n",
    "}\n",
    "person[\"qualification\"] = \"Masters\"  \n",
    "print(person)\n",
    "\n",
    "del person[\"qualification\"]  \n",
    "print(person)\n"
   ]
  },
  {
   "cell_type": "code",
   "execution_count": 2,
   "metadata": {},
   "outputs": [
    {
     "name": "stdout",
     "output_type": "stream",
     "text": [
      "[{'islamabad': 1, 'country': 'Pakistan', 'Population': '1.1 million', 'fact': 'Capital'}, {'new_york': 2, 'country': 'United States', 'Population': '8.5 million', 'fact': 'largest city in the UInited States'}, {'makkah': 3, 'country': 'Saudi Arabia', 'Population': '1.67 million', 'fact': 'holiest city of muslim'}]\n"
     ]
    }
   ],
   "source": [
    "cities = [\n",
    "    {\n",
    "        \"islamabad\": 1,\n",
    "        \"country\": \"Pakistan\",\n",
    "        \"Population\": \"1.1 million\",\n",
    "        \"fact\": \"Capital\"\n",
    "    },\n",
    "    {\n",
    "        \"new_york\": 2,\n",
    "        \"country\": \"United States\",\n",
    "        \"Population\": \"8.5 million\",\n",
    "        \"fact\": \"largest city in the UInited States\"\n",
    "    },\n",
    "\n",
    "     {\n",
    "        \"makkah\": 3,\n",
    "        \"country\": \"Saudi Arabia\",\n",
    "        \"Population\": \"1.67 million\",\n",
    "        \"fact\": \"holiest city of muslim\"\n",
    "     }\n",
    "]\n",
    "print(cities)\n"
   ]
  },
  {
   "cell_type": "code",
   "execution_count": 3,
   "metadata": {},
   "outputs": [
    {
     "name": "stdout",
     "output_type": "stream",
     "text": [
      "[{'islamabad': 1, 'country': 'Pakistan', 'Population': '1.1 million', 'fact': 'Capital'}, {'new_york': 2, 'country': 'United States', 'Population': '8.5 million', 'fact': 'largest city in the UInited States'}, {'makkah': 3, 'country': 'Saudi Arabia', 'Population': '1.67 million', 'fact': 'holiest city of muslim'}]\n"
     ]
    }
   ],
   "source": [
    "cities = [\n",
    "    {\n",
    "        \"islamabad\": 1,\n",
    "        \"country\": \"Pakistan\",\n",
    "        \"Population\": \"1.1 million\",\n",
    "        \"fact\": \"Capital\"\n",
    "    },\n",
    "    {\n",
    "        \"new_york\": 2,\n",
    "        \"country\": \"United States\",\n",
    "        \"Population\": \"8.5 million\",\n",
    "        \"fact\": \"largest city in the UInited States\"\n",
    "    },\n",
    "\n",
    "     {\n",
    "        \"makkah\": 3,\n",
    "        \"country\": \"Saudi Arabia\",\n",
    "        \"Population\": \"1.67 million\",\n",
    "        \"fact\": \"holiest city of muslim\"\n",
    "     }\n",
    "]\n",
    "print(cities)\n"
   ]
  },
  {
   "cell_type": "code",
   "execution_count": 4,
   "metadata": {},
   "outputs": [
    {
     "name": "stdout",
     "output_type": "stream",
     "text": [
      "How old are you?\n",
      "Enter 'quit' when you are finished. 23\n",
      "  Your ticket is $15.\n",
      "How old are you?\n",
      "Enter 'quit' when you are finished. quit\n"
     ]
    }
   ],
   "source": [
    "prompt = \"How old are you?\"\n",
    "prompt += \"\\nEnter 'quit' when you are finished. \"\n",
    "\n",
    "while True:\n",
    "    age = input(prompt)\n",
    "    if age == 'quit':\n",
    "        break\n",
    "    age = int(age)\n",
    "\n",
    "    if age < 3:\n",
    "        print(\"  You get in free!\")\n",
    "    elif age < 13:\n",
    "        print(\"  Your ticket is $10.\")\n",
    "    else:\n",
    "        print(\"  Your ticket is $15.\")\n"
   ]
  },
  {
   "cell_type": "code",
   "execution_count": 5,
   "metadata": {},
   "outputs": [
    {
     "name": "stdout",
     "output_type": "stream",
     "text": [
      "Peer e Kaamil By Umera Ahmed is one of my favorite books.\n"
     ]
    }
   ],
   "source": [
    "def favorite_book(title):\n",
    "       print(title + \" is one of my favorite books.\")\n",
    "\n",
    "favorite_book('Peer e Kaamil By Umera Ahmed')"
   ]
  },
  {
   "cell_type": "code",
   "execution_count": null,
   "metadata": {},
   "outputs": [],
   "source": [
    "from random import randint\n",
    "\n",
    "print (\"random number between 1 - 30.\"\n",
    "       \"\\nuser guess the number!\")\n",
    "\n",
    "number = 0\n",
    "\n",
    "while number < 1 or number >30:\n",
    "    number = int(input(\"\\n\\nEnter a number: \"))\n",
    "    if number > 30:\n",
    "        print (\"Number must be lower than!\")\n",
    "    if number < 1:\n",
    "        print (\"Number must be greater than!\")\n",
    "\n",
    "guess = randint(1, 30)\n",
    "\n",
    "print (\"The user takes a guess...\", guess)\n",
    "\n",
    "while guess != number:\n",
    "    if guess > number:\n",
    "        guess -= 1\n",
    "        guess = randint(1, guess)\n",
    "    else:\n",
    "        guess += 1\n",
    "        guess = randint(guess, 30)\n",
    "    print (\"The user takes a guess...\", guess)\n",
    "\n",
    "print (\"The user guessed\", guess, \"and it was correct!\")\n"
   ]
  },
  {
   "cell_type": "code",
   "execution_count": null,
   "metadata": {},
   "outputs": [],
   "source": []
  },
  {
   "cell_type": "code",
   "execution_count": null,
   "metadata": {},
   "outputs": [],
   "source": []
  }
 ],
 "metadata": {
  "kernelspec": {
   "display_name": "Python 3",
   "language": "python",
   "name": "python3"
  },
  "language_info": {
   "codemirror_mode": {
    "name": "ipython",
    "version": 3
   },
   "file_extension": ".py",
   "mimetype": "text/x-python",
   "name": "python",
   "nbconvert_exporter": "python",
   "pygments_lexer": "ipython3",
   "version": "3.7.4"
  }
 },
 "nbformat": 4,
 "nbformat_minor": 2
}
