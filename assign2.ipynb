{
 "cells": [
  {
   "cell_type": "code",
   "execution_count": 7,
   "metadata": {},
   "outputs": [
    {
     "name": "stdout",
     "output_type": "stream",
     "text": [
      "Enter marks of subject 1: 80\n",
      "Enter marks of subject 2: 90\n",
      "Enter marks of subject 3: 85\n",
      "Enter marks of subject 4: 95\n",
      "Enter marks of subject 5: 80\n",
      "Grade: A\n"
     ]
    }
   ],
   "source": [
    "sub1=int(input(\"Enter marks of subject 1: \"))\n",
    "sub2=int(input(\"Enter marks of subject 2: \"))\n",
    "sub3=int(input(\"Enter marks of subject 3: \"))\n",
    "sub4=int(input(\"Enter marks of subject 4: \"))\n",
    "sub5=int(input(\"Enter marks of subject 5: \"))\n",
    "perc=((sub1+sub2+sub3+sub4+sub5)/500)*100\n",
    "if(perc>=85):\n",
    "    print(\"Grade: A\")\n",
    "elif(perc >=75 and perc<85):\n",
    "    print(\"Grade: B\")\n",
    "elif(perc >=65 and perc<75):\n",
    "    print(\"Grade: C\")\n",
    "elif(perc >=55 and perc<65):\n",
    "    print(\"Grade: D\")\n",
    "else:\n",
    "    print(\"Grade: F\")\n"
   ]
  },
  {
   "cell_type": "code",
   "execution_count": 15,
   "metadata": {},
   "outputs": [
    {
     "name": "stdout",
     "output_type": "stream",
     "text": [
      " Enter number: 4\n",
      " Number is Even\n"
     ]
    }
   ],
   "source": [
    "num = int(input(\" Enter number: \"))\n",
    "if (num % 2) == 0:\n",
    "   print(\" Number is Even\")\n",
    "else:\n",
    "   print(\" Number is Odd\")"
   ]
  },
  {
   "cell_type": "code",
   "execution_count": 9,
   "metadata": {},
   "outputs": [
    {
     "name": "stdout",
     "output_type": "stream",
     "text": [
      "Lenght of the list =  10\n"
     ]
    }
   ],
   "source": [
    "list = [1, 2, 3, 4, 5, 6, 7, 8, 9, 10]\n",
    "print(\"Lenght of the list = \", len(list))"
   ]
  },
  {
   "cell_type": "code",
   "execution_count": 17,
   "metadata": {},
   "outputs": [
    {
     "name": "stdout",
     "output_type": "stream",
     "text": [
      "Sum of all the numeric item is : 15\n"
     ]
    }
   ],
   "source": [
    "list = [1, 2, 3, 4, 5]\n",
    "print(\"Sum of all the numeric item is :\", sum(list))"
   ]
  },
  {
   "cell_type": "code",
   "execution_count": 19,
   "metadata": {},
   "outputs": [
    {
     "name": "stdout",
     "output_type": "stream",
     "text": [
      "Largest number from a numeric list is : 500\n"
     ]
    }
   ],
   "source": [
    "list = [100,200,300,400,500]\n",
    "print(\"Largest number from a numeric list is :\", max(list), )"
   ]
  },
  {
   "cell_type": "code",
   "execution_count": 22,
   "metadata": {},
   "outputs": [
    {
     "name": "stdout",
     "output_type": "stream",
     "text": [
      "[1, 1, 2, 3]\n"
     ]
    }
   ],
   "source": [
    "list = [1, 1, 2, 3, 5, 8, 13, 21, 34, 55, 89]\n",
    "newlist = []\n",
    "for a in list:\n",
    "    if a<5:\n",
    "        newlist.append(a)\n",
    "print(newlist)"
   ]
  },
  {
   "cell_type": "code",
   "execution_count": null,
   "metadata": {},
   "outputs": [],
   "source": []
  }
 ],
 "metadata": {
  "kernelspec": {
   "display_name": "Python 3",
   "language": "python",
   "name": "python3"
  },
  "language_info": {
   "codemirror_mode": {
    "name": "ipython",
    "version": 3
   },
   "file_extension": ".py",
   "mimetype": "text/x-python",
   "name": "python",
   "nbconvert_exporter": "python",
   "pygments_lexer": "ipython3",
   "version": "3.7.4"
  }
 },
 "nbformat": 4,
 "nbformat_minor": 2
}
