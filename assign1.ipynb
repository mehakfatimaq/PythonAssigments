{
 "cells": [
  {
   "cell_type": "code",
   "execution_count": 14,
   "metadata": {},
   "outputs": [
    {
     "name": "stdout",
     "output_type": "stream",
     "text": [
      " Twinkle, twinkle, little star, \n",
      " How I wonder what you are! \n",
      " Up above the world so high, \n",
      " Like a diamond in the sky.\n",
      " Twinkle, twinkle, little star, \n",
      " How I wonder what you are\n"
     ]
    }
   ],
   "source": [
    "print(\" Twinkle, twinkle, little star, \\n How I wonder what you are! \\n Up above the world so high, \\n Like a diamond in the sky.\\n Twinkle, twinkle, little star, \\n How I wonder what you are\");"
   ]
  },
  {
   "cell_type": "code",
   "execution_count": 15,
   "metadata": {},
   "outputs": [
    {
     "name": "stdout",
     "output_type": "stream",
     "text": [
      "Python version is  3.7.4\n"
     ]
    }
   ],
   "source": [
    "from platform import python_version\n",
    "print(\"Python version is \",python_version())"
   ]
  },
  {
   "cell_type": "code",
   "execution_count": 16,
   "metadata": {},
   "outputs": [
    {
     "name": "stdout",
     "output_type": "stream",
     "text": [
      "Current date and time is  2019-11-05 18:49:34.245696\n"
     ]
    }
   ],
   "source": [
    "import datetime\n",
    "now = datetime.datetime.now()\n",
    "print(\"Current date and time is \", now)"
   ]
  },
  {
   "cell_type": "code",
   "execution_count": 17,
   "metadata": {},
   "outputs": [
    {
     "name": "stdout",
     "output_type": "stream",
     "text": [
      "Enter radius value 5\n",
      "Circle Area =  78.53981633974483\n"
     ]
    }
   ],
   "source": [
    "import math\n",
    "r = int(input(\"Enter radius value \"))\n",
    "area = math.pi * r *r\n",
    "print(\"Circle Area = \", area)"
   ]
  },
  {
   "cell_type": "code",
   "execution_count": 18,
   "metadata": {},
   "outputs": [
    {
     "name": "stdout",
     "output_type": "stream",
     "text": [
      " Your first name : Mehak\n",
      " Your Last name  : Fatima\n",
      "Fatima Mehak\n"
     ]
    }
   ],
   "source": [
    "first = input(\" Your first name : \")\n",
    "last = input(\" Your Last name  : \")\n",
    "name = last + \" \" + first\n",
    "print(name)"
   ]
  },
  {
   "cell_type": "code",
   "execution_count": 19,
   "metadata": {},
   "outputs": [
    {
     "name": "stdout",
     "output_type": "stream",
     "text": [
      " First value :  20\n",
      " Second value : 40\n",
      " Addition = 60\n"
     ]
    }
   ],
   "source": [
    "value1 = int(input(\" First value :  \"))\n",
    "value2 = int(input(\" Second value : \")) \n",
    "add = value1 + value2\n",
    "print(\" Addition =\", add)"
   ]
  },
  {
   "cell_type": "code",
   "execution_count": null,
   "metadata": {},
   "outputs": [],
   "source": []
  }
 ],
 "metadata": {
  "kernelspec": {
   "display_name": "Python 3",
   "language": "python",
   "name": "python3"
  },
  "language_info": {
   "codemirror_mode": {
    "name": "ipython",
    "version": 3
   },
   "file_extension": ".py",
   "mimetype": "text/x-python",
   "name": "python",
   "nbconvert_exporter": "python",
   "pygments_lexer": "ipython3",
   "version": "3.7.4"
  }
 },
 "nbformat": 4,
 "nbformat_minor": 2
}
