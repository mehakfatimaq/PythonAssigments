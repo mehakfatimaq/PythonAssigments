{
 "cells": [
  {
   "cell_type": "code",
   "execution_count": 7,
   "metadata": {},
   "outputs": [
    {
     "name": "stdout",
     "output_type": "stream",
     "text": [
      " Enter first value :  4\n",
      "enter operator *\n",
      "Enter second value : 4\n",
      "answer :  16\n"
     ]
    }
   ],
   "source": [
    "val1 = int(input(' Enter first value :  '))\n",
    "operator = input('enter operator ')\n",
    "val2 = int(input('Enter second value : '))\n",
    "if operator == '+':\n",
    "    val = val1 + val2\n",
    "    print('answer : ', val)\n",
    "elif operator == '-':\n",
    "    val = val1 - val2\n",
    "    print('answer : ',val)\n",
    "elif operator == '*':\n",
    "    val = val1 * val2\n",
    "    print('answer : ',val)\n",
    "elif operator == '/':\n",
    "    val = val1 / val2\n",
    "    print('answer : ',val)\n",
    "elif operator == '**':\n",
    "    val = val1**val2\n",
    "    print('answer : ',val)\n",
    "else:\n",
    "    print('Invalid operation')\n"
   ]
  },
  {
   "cell_type": "code",
   "execution_count": 12,
   "metadata": {},
   "outputs": [
    {
     "name": "stdout",
     "output_type": "stream",
     "text": [
      "enter value 5\n",
      " Not found \n"
     ]
    }
   ],
   "source": [
    "list = ['a', 'b', 'c', 2, 3, 4]\n",
    "\n",
    "val = input('enter value ')\n",
    "\n",
    "for numeric_value in list:\n",
    "    if val == '2':\n",
    "        print('there is the numeric value')\n",
    "        break\n",
    "    elif val == '3':\n",
    "        print('there is the numeric value')\n",
    "        break\n",
    "    elif val == '4':\n",
    "        print('there is the numeric value')\n",
    "        break\n",
    "    else:\n",
    "        print(' Not found ')\n",
    "        break"
   ]
  },
  {
   "cell_type": "code",
   "execution_count": 14,
   "metadata": {},
   "outputs": [
    {
     "name": "stdout",
     "output_type": "stream",
     "text": [
      "{'name': 'Mehak Fatima', 'f.name': 'Shafiullah', 'Address': 'Hyderabad'}\n"
     ]
    }
   ],
   "source": [
    "biodata = {\n",
    "    \"name\": \"Mehak Fatima\",\n",
    "    \"f.name\": \"Shafiullah\",\n",
    "}\n",
    "biodata[\"Address\"] = \"Hyderabad\"\n",
    "print(biodata)"
   ]
  },
  {
   "cell_type": "code",
   "execution_count": 15,
   "metadata": {},
   "outputs": [
    {
     "name": "stdout",
     "output_type": "stream",
     "text": [
      "700\n"
     ]
    }
   ],
   "source": [
    "items = {'a':200,'b':300,'c':200}\n",
    "print(sum(items.values()))"
   ]
  },
  {
   "cell_type": "code",
   "execution_count": 17,
   "metadata": {},
   "outputs": [
    {
     "name": "stdout",
     "output_type": "stream",
     "text": [
      "1\n",
      "2\n"
     ]
    }
   ],
   "source": [
    "values = [1,1,2,2,4,5,6,7]\n",
    "values.sort()\n",
    "for dvalues in range (len (values) -1):\n",
    "    if values[dvalues] == values[dvalues+1]:\n",
    "        print (values[dvalues])"
   ]
  },
  {
   "cell_type": "code",
   "execution_count": 22,
   "metadata": {},
   "outputs": [
    {
     "name": "stdout",
     "output_type": "stream",
     "text": [
      "Key exist in a dictionary\n"
     ]
    }
   ],
   "source": [
    "valuelist = {1: \"one\", 2: \"two\", 3: \"three\", 4: \"four\", 5: \"five\"}\n",
    "def is_key_exist(x):\n",
    "  if x in valuelist:\n",
    "      print('Key exist in a dictionary')\n",
    "  else:\n",
    "      print('Key does not exist in a dictionary')\n",
    "is_key_exist(4)"
   ]
  },
  {
   "cell_type": "code",
   "execution_count": null,
   "metadata": {},
   "outputs": [],
   "source": []
  }
 ],
 "metadata": {
  "kernelspec": {
   "display_name": "Python 3",
   "language": "python",
   "name": "python3"
  },
  "language_info": {
   "codemirror_mode": {
    "name": "ipython",
    "version": 3
   },
   "file_extension": ".py",
   "mimetype": "text/x-python",
   "name": "python",
   "nbconvert_exporter": "python",
   "pygments_lexer": "ipython3",
   "version": "3.7.4"
  }
 },
 "nbformat": 4,
 "nbformat_minor": 2
}
